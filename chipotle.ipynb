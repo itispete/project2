{
 "cells": [
  {
   "cell_type": "markdown",
   "metadata": {},
   "source": [
    "<img src=\"http://imgur.com/1ZcRyrc.png\" style=\"float: left; margin: 20px; height: 55px\">\n",
    "\n",
    "# Project 2: Analyzing Chipotle Data\n",
    "\n",
    "_Author: Joseph Nelson (DC)_\n",
    "\n",
    "---"
   ]
  },
  {
   "cell_type": "markdown",
   "metadata": {},
   "source": [
    "For Project 2, you will complete a series of exercises exploring [order data from Chipotle](https://github.com/TheUpshot/chipotle), compliments of _The New York Times'_ \"The Upshot.\"\n",
    "\n",
    "For these exercises, you will conduct basic exploratory data analysis (Pandas not required) to understand the essentials of Chipotle's order data: how many orders are being made, the average price per order, how many different ingredients are used, etc. These allow you to practice business analysis skills while also becoming comfortable with Python."
   ]
  },
  {
   "cell_type": "markdown",
   "metadata": {},
   "source": [
    "---\n",
    "\n",
    "## Basic Level"
   ]
  },
  {
   "cell_type": "markdown",
   "metadata": {},
   "source": [
    "### Part 1: Read in the file with `csv.reader()` and store it in an object called `file_nested_list`.\n",
    "\n",
    "Hint: This is a TSV (tab-separated value) file, and `csv.reader()` needs to be told [how to handle it](https://docs.python.org/2/library/csv.html)."
   ]
  },
  {
   "cell_type": "code",
   "execution_count": 1,
   "metadata": {
    "collapsed": true
   },
   "outputs": [],
   "source": [
    "#Import csv for csv.reader()\n",
    "import csv"
   ]
  },
  {
   "cell_type": "code",
   "execution_count": 2,
   "metadata": {
    "collapsed": true
   },
   "outputs": [],
   "source": [
    "#Open tsv file and read data to  file_nested_list\n",
    "with open('data/chipotle.tsv', mode='rU') as f:\n",
    "    file_nested_list = [row for row in csv.reader(f, delimiter='\\t')]"
   ]
  },
  {
   "cell_type": "markdown",
   "metadata": {},
   "source": [
    "### Part 2: Separate `file_nested_list` into the `header` and the `data`.\n"
   ]
  },
  {
   "cell_type": "code",
   "execution_count": 3,
   "metadata": {
    "collapsed": true
   },
   "outputs": [],
   "source": [
    "#pull first row to header\n",
    "header = file_nested_list[0]"
   ]
  },
  {
   "cell_type": "code",
   "execution_count": 4,
   "metadata": {},
   "outputs": [],
   "source": [
    "#pull all rows after 0 to data\n",
    "data = file_nested_list[1:]"
   ]
  },
  {
   "cell_type": "markdown",
   "metadata": {},
   "source": [
    "---\n",
    "\n",
    "## Intermediate Level"
   ]
  },
  {
   "cell_type": "markdown",
   "metadata": {},
   "source": [
    "### Part 3: Calculate the average price of an order.\n",
    "\n",
    "Hint: Examine the data to see if the `quantity` column is relevant to this calculation.\n",
    "\n",
    "Hint: Think carefully about the simplest way to do this!"
   ]
  },
  {
   "cell_type": "markdown",
   "metadata": {},
   "source": [
    "switching to pandas"
   ]
  },
  {
   "cell_type": "code",
   "execution_count": 5,
   "metadata": {
    "collapsed": true
   },
   "outputs": [],
   "source": [
    "#clear file_nested_list\n",
    "file_nested_list = []"
   ]
  },
  {
   "cell_type": "code",
   "execution_count": 6,
   "metadata": {
    "collapsed": true
   },
   "outputs": [],
   "source": [
    "#import panadas package\n",
    "import pandas as pd"
   ]
  },
  {
   "cell_type": "code",
   "execution_count": 7,
   "metadata": {
    "collapsed": true
   },
   "outputs": [],
   "source": [
    "#pull from url instead of file to file_nested_list using pandas\n",
    "url = 'https://raw.githubusercontent.com/TheUpshot/chipotle/master/orders.tsv'\n",
    "file_nested_list = pd.read_csv(url, sep = '\\t')"
   ]
  },
  {
   "cell_type": "code",
   "execution_count": 8,
   "metadata": {
    "collapsed": true
   },
   "outputs": [],
   "source": [
    "#format file_nested_list.item_price to float (currency)\n",
    "dollarizer = lambda x: float(x[1:-1])\n",
    "file_nested_list.item_price = file_nested_list.item_price.apply(dollarizer)"
   ]
  },
  {
   "cell_type": "code",
   "execution_count": 9,
   "metadata": {
    "scrolled": true
   },
   "outputs": [
    {
     "data": {
      "text/plain": [
       "18.81"
      ]
     },
     "execution_count": 9,
     "metadata": {},
     "output_type": "execute_result"
    }
   ],
   "source": [
    "#group by order_id and calculate average (mean) of orders\n",
    "order_grouped = file_nested_list.groupby(by=['order_id']).sum()\n",
    "round(order_grouped.mean()['item_price'],2)"
   ]
  },
  {
   "cell_type": "markdown",
   "metadata": {},
   "source": [
    "### Part 4: Create a list (or set) named `unique_sodas` containing all of unique sodas and soft drinks that Chipotle sells.\n",
    "\n",
    "Note: Just look for `'Canned Soda'` and `'Canned Soft Drink'`, and ignore other drinks like `'Izze'`."
   ]
  },
  {
   "cell_type": "code",
   "execution_count": 10,
   "metadata": {
    "collapsed": true
   },
   "outputs": [],
   "source": [
    "#create set to remove duplicates and filter data for  canned soda or canned soft drinks \n",
    "unique_sodas = set(file_nested_list[(file_nested_list.item_name == 'Canned Soda') | (file_nested_list.item_name == 'Canned Soft Drink')].choice_description)"
   ]
  },
  {
   "cell_type": "code",
   "execution_count": 11,
   "metadata": {},
   "outputs": [
    {
     "data": {
      "text/plain": [
       "{'[Coca Cola]',\n",
       " '[Coke]',\n",
       " '[Diet Coke]',\n",
       " '[Diet Dr. Pepper]',\n",
       " '[Dr. Pepper]',\n",
       " '[Lemonade]',\n",
       " '[Mountain Dew]',\n",
       " '[Nestea]',\n",
       " '[Sprite]'}"
      ]
     },
     "execution_count": 11,
     "metadata": {},
     "output_type": "execute_result"
    }
   ],
   "source": [
    "#display set\n",
    "unique_sodas"
   ]
  },
  {
   "cell_type": "markdown",
   "metadata": {},
   "source": [
    "---\n",
    "\n",
    "## Advanced Level\n"
   ]
  },
  {
   "cell_type": "markdown",
   "metadata": {},
   "source": [
    "### Part 5: Calculate the average number of toppings per burrito.\n",
    "\n",
    "Note: Let's ignore the `quantity` column to simplify this task.\n",
    "\n",
    "Hint: Think carefully about the easiest way to count the number of toppings!\n"
   ]
  },
  {
   "cell_type": "code",
   "execution_count": 12,
   "metadata": {
    "scrolled": true
   },
   "outputs": [
    {
     "data": {
      "text/html": [
       "<div>\n",
       "<style>\n",
       "    .dataframe thead tr:only-child th {\n",
       "        text-align: right;\n",
       "    }\n",
       "\n",
       "    .dataframe thead th {\n",
       "        text-align: left;\n",
       "    }\n",
       "\n",
       "    .dataframe tbody tr th {\n",
       "        vertical-align: top;\n",
       "    }\n",
       "</style>\n",
       "<table border=\"1\" class=\"dataframe\">\n",
       "  <thead>\n",
       "    <tr style=\"text-align: right;\">\n",
       "      <th></th>\n",
       "      <th>order_id</th>\n",
       "      <th>quantity</th>\n",
       "      <th>item_name</th>\n",
       "      <th>choice_description</th>\n",
       "      <th>item_price</th>\n",
       "    </tr>\n",
       "  </thead>\n",
       "  <tbody>\n",
       "    <tr>\n",
       "      <th>0</th>\n",
       "      <td>1</td>\n",
       "      <td>1</td>\n",
       "      <td>Chips and Fresh Tomato Salsa</td>\n",
       "      <td>NaN</td>\n",
       "      <td>2.39</td>\n",
       "    </tr>\n",
       "    <tr>\n",
       "      <th>1</th>\n",
       "      <td>1</td>\n",
       "      <td>1</td>\n",
       "      <td>Izze</td>\n",
       "      <td>[Clementine]</td>\n",
       "      <td>3.39</td>\n",
       "    </tr>\n",
       "    <tr>\n",
       "      <th>2</th>\n",
       "      <td>1</td>\n",
       "      <td>1</td>\n",
       "      <td>Nantucket Nectar</td>\n",
       "      <td>[Apple]</td>\n",
       "      <td>3.39</td>\n",
       "    </tr>\n",
       "    <tr>\n",
       "      <th>3</th>\n",
       "      <td>1</td>\n",
       "      <td>1</td>\n",
       "      <td>Chips and Tomatillo-Green Chili Salsa</td>\n",
       "      <td>NaN</td>\n",
       "      <td>2.39</td>\n",
       "    </tr>\n",
       "    <tr>\n",
       "      <th>4</th>\n",
       "      <td>2</td>\n",
       "      <td>2</td>\n",
       "      <td>Chicken Bowl</td>\n",
       "      <td>[Tomatillo-Red Chili Salsa (Hot), [Black Beans...</td>\n",
       "      <td>16.98</td>\n",
       "    </tr>\n",
       "    <tr>\n",
       "      <th>5</th>\n",
       "      <td>3</td>\n",
       "      <td>1</td>\n",
       "      <td>Chicken Bowl</td>\n",
       "      <td>[Fresh Tomato Salsa (Mild), [Rice, Cheese, Sou...</td>\n",
       "      <td>10.98</td>\n",
       "    </tr>\n",
       "    <tr>\n",
       "      <th>6</th>\n",
       "      <td>3</td>\n",
       "      <td>1</td>\n",
       "      <td>Side of Chips</td>\n",
       "      <td>NaN</td>\n",
       "      <td>1.69</td>\n",
       "    </tr>\n",
       "    <tr>\n",
       "      <th>7</th>\n",
       "      <td>4</td>\n",
       "      <td>1</td>\n",
       "      <td>Steak Burrito</td>\n",
       "      <td>[Tomatillo Red Chili Salsa, [Fajita Vegetables...</td>\n",
       "      <td>11.75</td>\n",
       "    </tr>\n",
       "    <tr>\n",
       "      <th>8</th>\n",
       "      <td>4</td>\n",
       "      <td>1</td>\n",
       "      <td>Steak Soft Tacos</td>\n",
       "      <td>[Tomatillo Green Chili Salsa, [Pinto Beans, Ch...</td>\n",
       "      <td>9.25</td>\n",
       "    </tr>\n",
       "    <tr>\n",
       "      <th>9</th>\n",
       "      <td>5</td>\n",
       "      <td>1</td>\n",
       "      <td>Steak Burrito</td>\n",
       "      <td>[Fresh Tomato Salsa, [Rice, Black Beans, Pinto...</td>\n",
       "      <td>9.25</td>\n",
       "    </tr>\n",
       "  </tbody>\n",
       "</table>\n",
       "</div>"
      ],
      "text/plain": [
       "   order_id  quantity                              item_name  \\\n",
       "0         1         1           Chips and Fresh Tomato Salsa   \n",
       "1         1         1                                   Izze   \n",
       "2         1         1                       Nantucket Nectar   \n",
       "3         1         1  Chips and Tomatillo-Green Chili Salsa   \n",
       "4         2         2                           Chicken Bowl   \n",
       "5         3         1                           Chicken Bowl   \n",
       "6         3         1                          Side of Chips   \n",
       "7         4         1                          Steak Burrito   \n",
       "8         4         1                       Steak Soft Tacos   \n",
       "9         5         1                          Steak Burrito   \n",
       "\n",
       "                                  choice_description  item_price  \n",
       "0                                                NaN        2.39  \n",
       "1                                       [Clementine]        3.39  \n",
       "2                                            [Apple]        3.39  \n",
       "3                                                NaN        2.39  \n",
       "4  [Tomatillo-Red Chili Salsa (Hot), [Black Beans...       16.98  \n",
       "5  [Fresh Tomato Salsa (Mild), [Rice, Cheese, Sou...       10.98  \n",
       "6                                                NaN        1.69  \n",
       "7  [Tomatillo Red Chili Salsa, [Fajita Vegetables...       11.75  \n",
       "8  [Tomatillo Green Chili Salsa, [Pinto Beans, Ch...        9.25  \n",
       "9  [Fresh Tomato Salsa, [Rice, Black Beans, Pinto...        9.25  "
      ]
     },
     "execution_count": 12,
     "metadata": {},
     "output_type": "execute_result"
    }
   ],
   "source": [
    "#display first 10 rows of file_nested_list to work with data\n",
    "file_nested_list.head(10)"
   ]
  },
  {
   "cell_type": "code",
   "execution_count": 13,
   "metadata": {
    "collapsed": true,
    "scrolled": true
   },
   "outputs": [],
   "source": [
    "#filter list for any item_name that contains \"Burrito\"\n",
    "burrito_items = file_nested_list[file_nested_list['item_name'].str.contains(\"Burrito\", na=\"False\")==True]"
   ]
  },
  {
   "cell_type": "code",
   "execution_count": 14,
   "metadata": {
    "collapsed": true
   },
   "outputs": [],
   "source": [
    "#Count number of burrito items\n",
    "burrito_count = burrito_items['item_name'].count()"
   ]
  },
  {
   "cell_type": "code",
   "execution_count": 15,
   "metadata": {
    "collapsed": true
   },
   "outputs": [],
   "source": [
    "#count number of commas plus one (start) to calulate how many toppings\n",
    "commacount= lambda x: str.count(x, ',') +1\n",
    "toppings = burrito_items.choice_description.apply(commacount).sum()"
   ]
  },
  {
   "cell_type": "code",
   "execution_count": 16,
   "metadata": {},
   "outputs": [
    {
     "data": {
      "text/plain": [
       "6323L"
      ]
     },
     "execution_count": 16,
     "metadata": {},
     "output_type": "execute_result"
    }
   ],
   "source": [
    "toppings"
   ]
  },
  {
   "cell_type": "code",
   "execution_count": 17,
   "metadata": {},
   "outputs": [
    {
     "data": {
      "text/plain": [
       "1172"
      ]
     },
     "execution_count": 17,
     "metadata": {},
     "output_type": "execute_result"
    }
   ],
   "source": [
    "burrito_count"
   ]
  },
  {
   "cell_type": "code",
   "execution_count": 18,
   "metadata": {},
   "outputs": [
    {
     "data": {
      "text/plain": [
       "5.395051194539249"
      ]
     },
     "execution_count": 18,
     "metadata": {},
     "output_type": "execute_result"
    }
   ],
   "source": [
    "#find average number of toppings (toppings / number of items)\n",
    "toppings/float(burrito_count)"
   ]
  },
  {
   "cell_type": "markdown",
   "metadata": {},
   "source": [
    "### Part 6: Create a dictionary. Let the keys represent chip orders and the values represent the total number of orders.\n",
    "\n",
    "Expected output: `{'Chips and Roasted Chili-Corn Salsa': 18, ... }`\n",
    "\n",
    "Note: Please take the `quantity` column into account!\n",
    "\n",
    "Optional: Learn how to use `.defaultdict()` to simplify your code."
   ]
  },
  {
   "cell_type": "code",
   "execution_count": 19,
   "metadata": {
    "collapsed": true
   },
   "outputs": [],
   "source": [
    "#filter by items that are chips\n",
    "chips = file_nested_list[file_nested_list['item_name'].str.contains(\"Chips\", na=\"False\")==True]"
   ]
  },
  {
   "cell_type": "code",
   "execution_count": 20,
   "metadata": {
    "collapsed": true
   },
   "outputs": [],
   "source": [
    "#count how many variations of chips and count instances\n",
    "dchips = chips.item_name.value_counts()"
   ]
  },
  {
   "cell_type": "code",
   "execution_count": 21,
   "metadata": {},
   "outputs": [
    {
     "data": {
      "text/plain": [
       "{'Chips': 211,\n",
       " 'Chips and Fresh Tomato Salsa': 110,\n",
       " 'Chips and Guacamole': 479,\n",
       " 'Chips and Mild Fresh Tomato Salsa': 1,\n",
       " 'Chips and Roasted Chili Corn Salsa': 22,\n",
       " 'Chips and Roasted Chili-Corn Salsa': 18,\n",
       " 'Chips and Tomatillo Green Chili Salsa': 43,\n",
       " 'Chips and Tomatillo Red Chili Salsa': 48,\n",
       " 'Chips and Tomatillo-Green Chili Salsa': 31,\n",
       " 'Chips and Tomatillo-Red Chili Salsa': 20,\n",
       " 'Side of Chips': 101}"
      ]
     },
     "execution_count": 21,
     "metadata": {},
     "output_type": "execute_result"
    }
   ],
   "source": [
    "#convert to dictionary index / value\n",
    "dchips.to_dict()"
   ]
  },
  {
   "cell_type": "markdown",
   "metadata": {},
   "source": [
    "---\n",
    "\n",
    "## Bonus: Craft a problem statement about this data that interests you, and then answer it!\n"
   ]
  },
  {
   "cell_type": "markdown",
   "metadata": {},
   "source": [
    "### What is the most popular toppings for a chicken burrito (i.e. best toppings)?"
   ]
  },
  {
   "cell_type": "code",
   "execution_count": 22,
   "metadata": {
    "collapsed": true,
    "scrolled": true
   },
   "outputs": [],
   "source": [
    "#filter by chicken burrito\n",
    "burr = file_nested_list[file_nested_list['item_name'].str.contains(\"Chicken Burrito\", na=\"False\")==True]"
   ]
  },
  {
   "cell_type": "code",
   "execution_count": 23,
   "metadata": {
    "collapsed": true
   },
   "outputs": [],
   "source": [
    "#count variations of toppings\n",
    "dburr = burr.choice_description.value_counts()"
   ]
  },
  {
   "cell_type": "code",
   "execution_count": 24,
   "metadata": {},
   "outputs": [
    {
     "data": {
      "text/plain": [
       "{'[Fresh Tomato (Mild), [Black Beans, Rice, Sour Cream, Cheese]]': 1,\n",
       " '[Fresh Tomato (Mild), [Guacamole, Lettuce, Rice, Fajita Veggies, Cheese]]': 1,\n",
       " '[Fresh Tomato (Mild), [Guacamole, Lettuce, Rice, Fajita Veggies, Sour Cream, Cheese]]': 1,\n",
       " '[Fresh Tomato (Mild), [Guacamole, Rice, Fajita Veggies, Sour Cream, Cheese]]': 1,\n",
       " '[Fresh Tomato (Mild), [Guacamole, Rice, Sour Cream, Cheese]]': 1,\n",
       " '[Fresh Tomato (Mild), [Lettuce, Rice, Fajita Veggies, Sour Cream, Cheese]]': 1,\n",
       " '[Fresh Tomato Salsa (Mild), [Black Beans, Rice, Cheese, Sour Cream, Guacamole, Lettuce]]': 1,\n",
       " '[Fresh Tomato Salsa (Mild), [Black Beans, Rice, Cheese, Sour Cream, Guacamole]]': 1,\n",
       " '[Fresh Tomato Salsa (Mild), [Black Beans, Rice, Cheese, Sour Cream, Lettuce]]': 8,\n",
       " '[Fresh Tomato Salsa (Mild), [Black Beans, Rice, Cheese, Sour Cream]]': 1,\n",
       " '[Fresh Tomato Salsa (Mild), [Black Beans, Rice, Cheese]]': 1,\n",
       " '[Fresh Tomato Salsa (Mild), [Black Beans, Rice, Fajita Veggies, Cheese, Sour Cream, Lettuce]]': 2,\n",
       " '[Fresh Tomato Salsa (Mild), [Black Beans, Rice, Fajita Veggies, Cheese]]': 1,\n",
       " '[Fresh Tomato Salsa (Mild), [Black Beans, Rice, Sour Cream, Guacamole]]': 3,\n",
       " '[Fresh Tomato Salsa (Mild), [Cheese, Lettuce]]': 2,\n",
       " '[Fresh Tomato Salsa (Mild), [Fajita Veggies, Cheese, Sour Cream, Lettuce]]': 1,\n",
       " '[Fresh Tomato Salsa (Mild), [Fajita Veggies, Guacamole, Lettuce]]': 1,\n",
       " '[Fresh Tomato Salsa (Mild), [Pinto Beans, Cheese, Sour Cream, Lettuce]]': 1,\n",
       " '[Fresh Tomato Salsa (Mild), [Pinto Beans, Rice, Cheese, Sour Cream, Lettuce]]': 3,\n",
       " '[Fresh Tomato Salsa (Mild), [Pinto Beans, Rice, Fajita Veggies, Cheese, Sour Cream, Guacamole, Lettuce]]': 1,\n",
       " '[Fresh Tomato Salsa (Mild), [Pinto Beans, Rice, Fajita Veggies, Cheese, Sour Cream, Lettuce]]': 1,\n",
       " '[Fresh Tomato Salsa (Mild), [Pinto Beans, Rice, Sour Cream]]': 1,\n",
       " '[Fresh Tomato Salsa (Mild), [Rice, Black Beans, Fajita Veggies, Cheese, Guacamole, Lettuce]]': 1,\n",
       " '[Fresh Tomato Salsa (Mild), [Rice, Cheese, Lettuce]]': 2,\n",
       " '[Fresh Tomato Salsa (Mild), [Rice, Cheese, Sour Cream, Lettuce]]': 3,\n",
       " '[Fresh Tomato Salsa (Mild), [Rice, Fajita Veggies, Cheese, Lettuce]]': 1,\n",
       " '[Fresh Tomato Salsa (Mild), [Rice, Fajita Veggies, Cheese, Sour Cream, Guacamole, Lettuce]]': 2,\n",
       " '[Fresh Tomato Salsa (Mild), [Rice, Fajita Veggies, Cheese, Sour Cream, Lettuce]]': 2,\n",
       " '[Fresh Tomato Salsa (Mild), [Rice, Fajita Veggies, Lettuce]]': 2,\n",
       " '[Fresh Tomato Salsa, Cheese]': 1,\n",
       " '[Fresh Tomato Salsa, Rice]': 9,\n",
       " '[Fresh Tomato Salsa, [Black Beans, Cheese, Guacamole, Lettuce]]': 1,\n",
       " '[Fresh Tomato Salsa, [Black Beans, Cheese, Sour Cream]]': 1,\n",
       " '[Fresh Tomato Salsa, [Black Beans, Pinto Beans, Cheese, Guacamole, Lettuce]]': 1,\n",
       " '[Fresh Tomato Salsa, [Cheese, Lettuce]]': 1,\n",
       " '[Fresh Tomato Salsa, [Cheese, Rice, Black Beans, Lettuce]]': 1,\n",
       " '[Fresh Tomato Salsa, [Cheese, Sour Cream, Lettuce]]': 2,\n",
       " '[Fresh Tomato Salsa, [Cheese, Sour Cream]]': 1,\n",
       " '[Fresh Tomato Salsa, [Fajita Vegetables, Cheese, Lettuce]]': 1,\n",
       " '[Fresh Tomato Salsa, [Fajita Vegetables, Pinto Beans, Cheese, Guacamole]]': 1,\n",
       " '[Fresh Tomato Salsa, [Fajita Vegetables, Rice, Black Beans, Cheese, Lettuce]]': 2,\n",
       " '[Fresh Tomato Salsa, [Fajita Vegetables, Rice, Black Beans, Cheese, Sour Cream, Guacamole, Lettuce]]': 4,\n",
       " '[Fresh Tomato Salsa, [Fajita Vegetables, Rice, Black Beans, Cheese, Sour Cream, Lettuce]]': 6,\n",
       " '[Fresh Tomato Salsa, [Fajita Vegetables, Rice, Black Beans, Cheese]]': 3,\n",
       " '[Fresh Tomato Salsa, [Fajita Vegetables, Rice, Black Beans, Pinto Beans, Cheese, Lettuce]]': 1,\n",
       " '[Fresh Tomato Salsa, [Fajita Vegetables, Rice, Black Beans, Pinto Beans, Cheese, Sour Cream, Guacamole, Lettuce]]': 2,\n",
       " '[Fresh Tomato Salsa, [Fajita Vegetables, Rice, Black Beans, Pinto Beans, Guacamole, Lettuce]]': 1,\n",
       " '[Fresh Tomato Salsa, [Fajita Vegetables, Rice, Cheese, Guacamole]]': 1,\n",
       " '[Fresh Tomato Salsa, [Fajita Vegetables, Rice, Cheese, Sour Cream, Guacamole, Lettuce]]': 1,\n",
       " '[Fresh Tomato Salsa, [Fajita Vegetables, Rice, Cheese, Sour Cream, Lettuce]]': 1,\n",
       " '[Fresh Tomato Salsa, [Fajita Vegetables, Rice, Cheese, Sour Cream]]': 1,\n",
       " '[Fresh Tomato Salsa, [Fajita Vegetables, Rice, Pinto Beans, Cheese, Guacamole, Lettuce]]': 2,\n",
       " '[Fresh Tomato Salsa, [Fajita Vegetables, Rice, Pinto Beans, Cheese, Sour Cream, Guacamole, Lettuce]]': 1,\n",
       " '[Fresh Tomato Salsa, [Fajita Vegetables, Rice, Pinto Beans, Cheese, Sour Cream]]': 1,\n",
       " '[Fresh Tomato Salsa, [Fajita Vegetables, Rice, Sour Cream, Lettuce]]': 3,\n",
       " '[Fresh Tomato Salsa, [Fajita Vegetables, Rice]]': 5,\n",
       " '[Fresh Tomato Salsa, [Fajita Vegetables, Sour Cream, Cheese, Guacamole]]': 1,\n",
       " '[Fresh Tomato Salsa, [Guacamole, Cheese, Rice, Sour Cream, Fajita Vegetables, Lettuce]]': 1,\n",
       " '[Fresh Tomato Salsa, [Guacamole, Lettuce, Sour Cream, Fajita Vegetables, Cheese, Rice]]': 1,\n",
       " '[Fresh Tomato Salsa, [Lettuce, Guacamole, Rice, Cheese, Fajita Vegetables, Sour Cream]]': 1,\n",
       " '[Fresh Tomato Salsa, [Lettuce, Rice, Black Beans, Cheese]]': 1,\n",
       " '[Fresh Tomato Salsa, [Pinto Beans, Cheese, Sour Cream]]': 1,\n",
       " '[Fresh Tomato Salsa, [Rice, Black Beans, Cheese, Guacamole, Lettuce]]': 7,\n",
       " '[Fresh Tomato Salsa, [Rice, Black Beans, Cheese, Guacamole]]': 2,\n",
       " '[Fresh Tomato Salsa, [Rice, Black Beans, Cheese, Lettuce, Guacamole]]': 1,\n",
       " '[Fresh Tomato Salsa, [Rice, Black Beans, Cheese, Lettuce]]': 10,\n",
       " '[Fresh Tomato Salsa, [Rice, Black Beans, Cheese, Sour Cream, Guacamole, Lettuce]]': 12,\n",
       " '[Fresh Tomato Salsa, [Rice, Black Beans, Cheese, Sour Cream, Guacamole]]': 3,\n",
       " '[Fresh Tomato Salsa, [Rice, Black Beans, Cheese, Sour Cream, Lettuce]]': 16,\n",
       " '[Fresh Tomato Salsa, [Rice, Black Beans, Cheese, Sour Cream]]': 13,\n",
       " '[Fresh Tomato Salsa, [Rice, Black Beans, Cheese]]': 5,\n",
       " '[Fresh Tomato Salsa, [Rice, Black Beans, Lettuce, Cheese]]': 1,\n",
       " '[Fresh Tomato Salsa, [Rice, Black Beans, Pinto Beans, Cheese, Guacamole, Lettuce]]': 1,\n",
       " '[Fresh Tomato Salsa, [Rice, Black Beans, Sour Cream, Cheese, Guacamole]]': 1,\n",
       " '[Fresh Tomato Salsa, [Rice, Black Beans, Sour Cream, Cheese, Lettuce, Guacamole]]': 1,\n",
       " '[Fresh Tomato Salsa, [Rice, Black Beans, Sour Cream, Cheese, Lettuce]]': 3,\n",
       " '[Fresh Tomato Salsa, [Rice, Black Beans, Sour Cream, Lettuce]]': 2,\n",
       " '[Fresh Tomato Salsa, [Rice, Black Beans, Sour Cream]]': 2,\n",
       " '[Fresh Tomato Salsa, [Rice, Black Beans]]': 3,\n",
       " '[Fresh Tomato Salsa, [Rice, Cheese, Guacamole, Lettuce]]': 1,\n",
       " '[Fresh Tomato Salsa, [Rice, Cheese, Lettuce]]': 8,\n",
       " '[Fresh Tomato Salsa, [Rice, Cheese, Sour Cream, Guacamole, Lettuce]]': 2,\n",
       " '[Fresh Tomato Salsa, [Rice, Cheese, Sour Cream, Guacamole]]': 3,\n",
       " '[Fresh Tomato Salsa, [Rice, Cheese, Sour Cream, Lettuce]]': 10,\n",
       " '[Fresh Tomato Salsa, [Rice, Cheese, Sour Cream]]': 5,\n",
       " '[Fresh Tomato Salsa, [Rice, Cheese]]': 1,\n",
       " '[Fresh Tomato Salsa, [Rice, Fajita Vegetables, Sour Cream, Cheese, Guacamole]]': 2,\n",
       " '[Fresh Tomato Salsa, [Rice, Fajita Vegetables, Sour Cream, Cheese, Lettuce]]': 1,\n",
       " '[Fresh Tomato Salsa, [Rice, Fajita Vegetables]]': 1,\n",
       " '[Fresh Tomato Salsa, [Rice, Guacamole, Cheese, Sour Cream]]': 2,\n",
       " '[Fresh Tomato Salsa, [Rice, Pinto Beans, Cheese, Guacamole, Lettuce]]': 2,\n",
       " '[Fresh Tomato Salsa, [Rice, Pinto Beans, Cheese, Sour Cream, Guacamole, Lettuce]]': 2,\n",
       " '[Fresh Tomato Salsa, [Rice, Pinto Beans, Cheese, Sour Cream, Guacamole]]': 1,\n",
       " '[Fresh Tomato Salsa, [Rice, Pinto Beans, Cheese, Sour Cream, Lettuce]]': 3,\n",
       " '[Fresh Tomato Salsa, [Rice, Pinto Beans, Cheese, Sour Cream]]': 3,\n",
       " '[Fresh Tomato Salsa, [Rice, Pinto Beans, Cheese]]': 1,\n",
       " '[Fresh Tomato Salsa, [Rice, Pinto Beans, Lettuce]]': 1,\n",
       " '[Fresh Tomato Salsa, [Rice, Sour Cream, Cheese, Guacamole]]': 3,\n",
       " '[Fresh Tomato Salsa, [Rice, Sour Cream, Cheese, Lettuce, Guacamole]]': 3,\n",
       " '[Fresh Tomato Salsa, [Rice, Sour Cream, Cheese, Lettuce]]': 1,\n",
       " '[Fresh Tomato Salsa, [Rice, Sour Cream, Cheese]]': 1,\n",
       " '[Fresh Tomato Salsa, [Rice, Sour Cream, Guacamole]]': 1,\n",
       " '[Fresh Tomato Salsa, [Sour Cream, Cheese, Guacamole, Rice]]': 1,\n",
       " '[Fresh Tomato Salsa, [Sour Cream, Cheese, Lettuce, Guacamole]]': 1,\n",
       " '[Fresh Tomato Salsa, [Sour Cream, Cheese, Pinto Beans, Rice]]': 1,\n",
       " '[Fresh Tomato Salsa, [Sour Cream, Cheese, Rice, Black Beans]]': 1,\n",
       " '[Fresh Tomato Salsa]': 2,\n",
       " '[Rice]': 1,\n",
       " '[Roasted Chili Corn (Medium), [Lettuce, Black Beans, Rice, Sour Cream, Cheese]]': 1,\n",
       " '[Roasted Chili Corn Salsa (Medium), [Black Beans, Fajita Veggies, Cheese, Sour Cream, Guacamole]]': 1,\n",
       " '[Roasted Chili Corn Salsa (Medium), [Black Beans, Rice, Cheese, Guacamole, Lettuce]]': 1,\n",
       " '[Roasted Chili Corn Salsa (Medium), [Black Beans, Rice, Cheese, Sour Cream, Lettuce]]': 2,\n",
       " '[Roasted Chili Corn Salsa (Medium), [Black Beans, Rice, Cheese, Sour Cream]]': 4,\n",
       " '[Roasted Chili Corn Salsa (Medium), [Black Beans, Rice, Fajita Veggies, Cheese, Sour Cream, Guacamole, Lettuce]]': 2,\n",
       " '[Roasted Chili Corn Salsa (Medium), [Pinto Beans, Black Beans, Rice, Fajita Veggies, Cheese, Sour Cream, Lettuce]]': 1,\n",
       " '[Roasted Chili Corn Salsa (Medium), [Pinto Beans, Rice, Cheese, Sour Cream, Lettuce]]': 1,\n",
       " '[Roasted Chili Corn Salsa (Medium), [Pinto Beans, Rice, Fajita Veggies, Sour Cream, Lettuce]]': 1,\n",
       " '[Roasted Chili Corn Salsa (Medium), [Rice, Black Beans, Sour Cream, Guacamole]]': 1,\n",
       " '[Roasted Chili Corn Salsa (Medium), [Rice, Cheese, Lettuce]]': 2,\n",
       " '[Roasted Chili Corn Salsa (Medium), [Rice, Cheese, Sour Cream, Lettuce]]': 1,\n",
       " '[Roasted Chili Corn Salsa (Medium), [Rice, Cheese, Sour Cream]]': 1,\n",
       " '[Roasted Chili Corn Salsa (Medium), [Rice, Fajita Veggies, Cheese, Sour Cream, Guacamole, Lettuce]]': 1,\n",
       " '[Roasted Chili Corn Salsa (Medium), [Rice, Fajita Veggies, Cheese, Sour Cream, Lettuce]]': 4,\n",
       " '[Roasted Chili Corn Salsa (Medium), [Rice, Fajita Veggies, Cheese, Sour Cream]]': 1,\n",
       " '[Roasted Chili Corn Salsa (Medium), [Rice, Fajita Veggies, Cheese]]': 3,\n",
       " '[Roasted Chili Corn Salsa (Medium), [Sour Cream, Cheese, Black Beans, Rice]]': 1,\n",
       " '[Roasted Chili Corn Salsa, Fajita Vegetables]': 1,\n",
       " '[Roasted Chili Corn Salsa, [Fajita Vegetables, Pinto Beans, Sour Cream, Cheese]]': 1,\n",
       " '[Roasted Chili Corn Salsa, [Fajita Vegetables, Rice, Black Beans, Cheese, Sour Cream, Guacamole, Lettuce]]': 2,\n",
       " '[Roasted Chili Corn Salsa, [Fajita Vegetables, Rice, Black Beans, Cheese, Sour Cream, Guacamole]]': 1,\n",
       " '[Roasted Chili Corn Salsa, [Fajita Vegetables, Rice, Black Beans, Cheese, Sour Cream, Lettuce]]': 1,\n",
       " '[Roasted Chili Corn Salsa, [Fajita Vegetables, Rice, Black Beans, Cheese, Sour Cream]]': 1,\n",
       " '[Roasted Chili Corn Salsa, [Fajita Vegetables, Rice, Black Beans, Cheese]]': 1,\n",
       " '[Roasted Chili Corn Salsa, [Fajita Vegetables, Rice, Black Beans, Guacamole]]': 1,\n",
       " '[Roasted Chili Corn Salsa, [Fajita Vegetables, Rice, Black Beans, Pinto Beans, Cheese, Lettuce]]': 1,\n",
       " '[Roasted Chili Corn Salsa, [Fajita Vegetables, Rice, Black Beans, Pinto Beans, Cheese, Sour Cream, Lettuce]]': 1,\n",
       " '[Roasted Chili Corn Salsa, [Fajita Vegetables, Rice, Black Beans, Pinto Beans, Guacamole, Lettuce]]': 1,\n",
       " '[Roasted Chili Corn Salsa, [Fajita Vegetables, Rice, Cheese, Lettuce]]': 1,\n",
       " '[Roasted Chili Corn Salsa, [Fajita Vegetables, Rice, Pinto Beans, Cheese, Sour Cream, Lettuce]]': 2,\n",
       " '[Roasted Chili Corn Salsa, [Fajita Vegetables, Rice, Pinto Beans, Guacamole, Lettuce]]': 1,\n",
       " '[Roasted Chili Corn Salsa, [Fajita Vegetables, Rice, Sour Cream, Guacamole, Lettuce]]': 3,\n",
       " '[Roasted Chili Corn Salsa, [Fajita Vegetables, Rice, Sour Cream, Guacamole]]': 1,\n",
       " '[Roasted Chili Corn Salsa, [Fajita Vegetables, Rice]]': 2,\n",
       " '[Roasted Chili Corn Salsa, [Guacamole, Lettuce, Rice, Fajita Vegetables, Sour Cream]]': 2,\n",
       " '[Roasted Chili Corn Salsa, [Guacamole, Sour Cream, Rice, Fajita Vegetables, Lettuce]]': 1,\n",
       " '[Roasted Chili Corn Salsa, [Pinto Beans, Cheese, Sour Cream]]': 1,\n",
       " '[Roasted Chili Corn Salsa, [Rice, Black Beans, Cheese, Lettuce, Guacamole]]': 3,\n",
       " '[Roasted Chili Corn Salsa, [Rice, Black Beans, Cheese, Lettuce]]': 1,\n",
       " '[Roasted Chili Corn Salsa, [Rice, Black Beans, Cheese, Sour Cream, Guacamole, Lettuce]]': 1,\n",
       " '[Roasted Chili Corn Salsa, [Rice, Black Beans, Cheese, Sour Cream, Lettuce]]': 3,\n",
       " '[Roasted Chili Corn Salsa, [Rice, Black Beans, Cheese]]': 3,\n",
       " '[Roasted Chili Corn Salsa, [Rice, Black Beans, Guacamole]]': 2,\n",
       " '[Roasted Chili Corn Salsa, [Rice, Black Beans, Lettuce]]': 1,\n",
       " '[Roasted Chili Corn Salsa, [Rice, Black Beans, Sour Cream, Cheese, Lettuce]]': 3,\n",
       " '[Roasted Chili Corn Salsa, [Rice, Black Beans, Sour Cream, Lettuce]]': 1,\n",
       " '[Roasted Chili Corn Salsa, [Rice, Black Beans]]': 3,\n",
       " '[Roasted Chili Corn Salsa, [Rice, Cheese, Sour Cream, Lettuce]]': 3,\n",
       " '[Roasted Chili Corn Salsa, [Rice, Fajita Vegetables, Black Beans, Cheese, Lettuce, Guacamole]]': 1,\n",
       " '[Roasted Chili Corn Salsa, [Rice, Fajita Vegetables, Black Beans, Sour Cream, Cheese, Lettuce, Guacamole]]': 1,\n",
       " '[Roasted Chili Corn Salsa, [Rice, Fajita Vegetables, Black Beans, Sour Cream, Cheese, Lettuce]]': 1,\n",
       " '[Roasted Chili Corn Salsa, [Rice, Fajita Vegetables, Cheese]]': 1,\n",
       " '[Roasted Chili Corn Salsa, [Rice, Fajita Vegetables, Sour Cream, Cheese, Lettuce]]': 1,\n",
       " '[Roasted Chili Corn Salsa, [Rice, Fajita Vegetables]]': 1,\n",
       " '[Roasted Chili Corn Salsa, [Rice, Pinto Beans, Cheese, Lettuce]]': 1,\n",
       " '[Roasted Chili Corn Salsa, [Rice, Pinto Beans, Cheese, Sour Cream, Guacamole, Lettuce]]': 1,\n",
       " '[Roasted Chili Corn Salsa, [Rice, Pinto Beans, Cheese, Sour Cream, Guacamole]]': 2,\n",
       " '[Roasted Chili Corn Salsa, [Rice, Pinto Beans, Cheese, Sour Cream, Lettuce]]': 1,\n",
       " '[Roasted Chili Corn Salsa, [Rice, Pinto Beans, Cheese, Sour Cream]]': 1,\n",
       " '[Roasted Chili Corn Salsa, [Rice, Pinto Beans, Cheese]]': 1,\n",
       " '[Roasted Chili Corn Salsa, [Rice, Pinto Beans, Sour Cream, Cheese, Guacamole]]': 1,\n",
       " '[Roasted Chili Corn Salsa, [Rice, Sour Cream, Cheese, Guacamole]]': 2,\n",
       " '[Roasted Chili Corn Salsa]': 1,\n",
       " '[Tomatillo Green Chili (Medium), [Lettuce, Black Beans, Rice, Sour Cream, Cheese]]': 1,\n",
       " '[Tomatillo Green Chili Salsa, Guacamole]': 1,\n",
       " '[Tomatillo Green Chili Salsa, [Black Beans, Cheese, Guacamole, Lettuce]]': 1,\n",
       " '[Tomatillo Green Chili Salsa, [Cheese, Lettuce, Pinto Beans, Rice]]': 1,\n",
       " '[Tomatillo Green Chili Salsa, [Cheese, Lettuce, Rice, Pinto Beans]]': 1,\n",
       " '[Tomatillo Green Chili Salsa, [Fajita Vegetables, Black Beans, Sour Cream, Cheese]]': 1,\n",
       " '[Tomatillo Green Chili Salsa, [Fajita Vegetables, Cheese, Sour Cream, Lettuce]]': 1,\n",
       " '[Tomatillo Green Chili Salsa, [Fajita Vegetables, Rice, Black Beans, Cheese, Sour Cream, Guacamole, Lettuce]]': 1,\n",
       " '[Tomatillo Green Chili Salsa, [Fajita Vegetables, Rice, Black Beans, Cheese, Sour Cream, Lettuce]]': 1,\n",
       " '[Tomatillo Green Chili Salsa, [Fajita Vegetables, Rice, Black Beans, Pinto Beans, Cheese, Sour Cream, Guacamole, Lettuce]]': 1,\n",
       " '[Tomatillo Green Chili Salsa, [Fajita Vegetables, Rice, Black Beans, Pinto Beans, Cheese]]': 1,\n",
       " '[Tomatillo Green Chili Salsa, [Fajita Vegetables, Rice, Cheese, Sour Cream, Lettuce]]': 1,\n",
       " '[Tomatillo Green Chili Salsa, [Fajita Vegetables, Sour Cream]]': 1,\n",
       " '[Tomatillo Green Chili Salsa, [Rice, Black Beans, Cheese, Guacamole]]': 1,\n",
       " '[Tomatillo Green Chili Salsa, [Rice, Black Beans, Cheese, Lettuce]]': 1,\n",
       " '[Tomatillo Green Chili Salsa, [Rice, Black Beans, Cheese, Sour Cream, Guacamole]]': 1,\n",
       " '[Tomatillo Green Chili Salsa, [Rice, Black Beans, Cheese, Sour Cream, Lettuce]]': 3,\n",
       " '[Tomatillo Green Chili Salsa, [Rice, Black Beans, Cheese, Sour Cream]]': 3,\n",
       " '[Tomatillo Green Chili Salsa, [Rice, Black Beans, Cheese]]': 2,\n",
       " '[Tomatillo Green Chili Salsa, [Rice, Black Beans, Pinto Beans, Cheese, Guacamole, Lettuce]]': 1,\n",
       " '[Tomatillo Green Chili Salsa, [Rice, Black Beans, Sour Cream, Cheese, Guacamole]]': 1,\n",
       " '[Tomatillo Green Chili Salsa, [Rice, Black Beans, Sour Cream, Cheese]]': 1,\n",
       " '[Tomatillo Green Chili Salsa, [Rice, Cheese, Lettuce]]': 1,\n",
       " '[Tomatillo Green Chili Salsa, [Rice, Cheese, Sour Cream, Lettuce]]': 1,\n",
       " '[Tomatillo Green Chili Salsa, [Rice, Fajita Vegetables, Sour Cream, Cheese, Lettuce]]': 1,\n",
       " '[Tomatillo Green Chili Salsa, [Rice, Fajita Vegetables, Sour Cream]]': 1,\n",
       " '[Tomatillo Green Chili Salsa, [Rice, Pinto Beans, Black Beans, Sour Cream, Cheese, Lettuce]]': 1,\n",
       " '[Tomatillo Green Chili Salsa, [Rice, Pinto Beans, Cheese, Lettuce]]': 4,\n",
       " '[Tomatillo Green Chili Salsa, [Rice, Pinto Beans, Cheese, Sour Cream, Guacamole, Lettuce]]': 2,\n",
       " '[Tomatillo Green Chili Salsa, [Rice, Pinto Beans, Sour Cream, Cheese, Lettuce]]': 2,\n",
       " '[Tomatillo Green Chili Salsa, [Rice, Sour Cream, Cheese, Lettuce]]': 1,\n",
       " '[Tomatillo Red Chili (Hot), [Lettuce, Rice, Cheese]]': 1,\n",
       " '[Tomatillo Red Chili Salsa, Lettuce]': 1,\n",
       " '[Tomatillo Red Chili Salsa, Rice]': 1,\n",
       " '[Tomatillo Red Chili Salsa, [Black Beans, Cheese, Sour Cream]]': 1,\n",
       " '[Tomatillo Red Chili Salsa, [Black Beans, Lettuce]]': 1,\n",
       " '[Tomatillo Red Chili Salsa, [Cheese, Black Beans, Rice]]': 1,\n",
       " '[Tomatillo Red Chili Salsa, [Cheese, Guacamole]]': 1,\n",
       " '[Tomatillo Red Chili Salsa, [Cheese, Rice, Black Beans]]': 1,\n",
       " '[Tomatillo Red Chili Salsa, [Fajita Vegetables, Rice, Black Beans, Cheese, Sour Cream, Guacamole, Lettuce]]': 2,\n",
       " '[Tomatillo Red Chili Salsa, [Fajita Vegetables, Rice, Black Beans, Guacamole]]': 1,\n",
       " '[Tomatillo Red Chili Salsa, [Fajita Vegetables, Rice, Black Beans, Pinto Beans, Cheese, Sour Cream, Lettuce]]': 1,\n",
       " '[Tomatillo Red Chili Salsa, [Fajita Vegetables, Rice, Black Beans, Sour Cream, Guacamole, Lettuce]]': 1,\n",
       " '[Tomatillo Red Chili Salsa, [Fajita Vegetables, Rice, Black Beans, Sour Cream, Guacamole]]': 1,\n",
       " '[Tomatillo Red Chili Salsa, [Fajita Vegetables, Rice, Cheese]]': 1,\n",
       " '[Tomatillo Red Chili Salsa, [Fajita Vegetables, Rice, Pinto Beans, Guacamole, Lettuce]]': 1,\n",
       " '[Tomatillo Red Chili Salsa, [Guacamole, Cheese]]': 2,\n",
       " '[Tomatillo Red Chili Salsa, [Rice, Black Beans, Cheese, Guacamole, Lettuce]]': 2,\n",
       " '[Tomatillo Red Chili Salsa, [Rice, Black Beans, Cheese, Lettuce]]': 2,\n",
       " '[Tomatillo Red Chili Salsa, [Rice, Black Beans, Cheese, Sour Cream, Guacamole, Lettuce]]': 2,\n",
       " '[Tomatillo Red Chili Salsa, [Rice, Black Beans, Cheese, Sour Cream, Lettuce]]': 2,\n",
       " '[Tomatillo Red Chili Salsa, [Rice, Black Beans, Cheese, Sour Cream]]': 3,\n",
       " '[Tomatillo Red Chili Salsa, [Rice, Black Beans, Cheese]]': 9,\n",
       " '[Tomatillo Red Chili Salsa, [Rice, Black Beans, Lettuce]]': 1,\n",
       " '[Tomatillo Red Chili Salsa, [Rice, Black Beans, Pinto Beans, Cheese, Sour Cream, Lettuce]]': 1,\n",
       " '[Tomatillo Red Chili Salsa, [Rice, Black Beans, Sour Cream, Cheese, Lettuce, Guacamole]]': 2,\n",
       " '[Tomatillo Red Chili Salsa, [Rice, Black Beans, Sour Cream, Cheese, Lettuce]]': 2,\n",
       " '[Tomatillo Red Chili Salsa, [Rice, Cheese, Guacamole, Lettuce]]': 1,\n",
       " '[Tomatillo Red Chili Salsa, [Rice, Cheese, Lettuce]]': 3,\n",
       " '[Tomatillo Red Chili Salsa, [Rice, Cheese, Sour Cream, Lettuce]]': 1,\n",
       " '[Tomatillo Red Chili Salsa, [Rice, Cheese, Sour Cream]]': 5,\n",
       " '[Tomatillo Red Chili Salsa, [Rice, Cheese]]': 2,\n",
       " '[Tomatillo Red Chili Salsa, [Rice, Fajita Vegetables, Black Beans, Cheese, Lettuce, Guacamole]]': 1,\n",
       " '[Tomatillo Red Chili Salsa, [Rice, Fajita Vegetables, Black Beans, Lettuce]]': 1,\n",
       " '[Tomatillo Red Chili Salsa, [Rice, Fajita Vegetables, Black Beans, Sour Cream, Cheese, Lettuce, Guacamole]]': 1,\n",
       " '[Tomatillo Red Chili Salsa, [Rice, Pinto Beans, Cheese, Lettuce]]': 1,\n",
       " '[Tomatillo Red Chili Salsa, [Rice, Pinto Beans, Cheese]]': 5,\n",
       " '[Tomatillo Red Chili Salsa, [Rice, Pinto Beans, Sour Cream, Guacamole, Lettuce]]': 5,\n",
       " '[Tomatillo Red Chili Salsa, [Rice, Sour Cream]]': 1,\n",
       " '[Tomatillo Red Chili Salsa, [Sour Cream, Cheese, Rice]]': 1,\n",
       " '[Tomatillo Red Chili Salsa]': 1,\n",
       " '[Tomatillo-Green Chili Salsa (Medium), Lettuce]': 1,\n",
       " '[Tomatillo-Green Chili Salsa (Medium), [Black Beans, Rice, Cheese, Lettuce]]': 1,\n",
       " '[Tomatillo-Green Chili Salsa (Medium), [Black Beans, Rice, Cheese, Sour Cream, Guacamole, Lettuce]]': 1,\n",
       " '[Tomatillo-Green Chili Salsa (Medium), [Black Beans, Rice, Cheese, Sour Cream, Guacamole]]': 1,\n",
       " '[Tomatillo-Green Chili Salsa (Medium), [Black Beans, Rice, Cheese, Sour Cream, Lettuce]]': 1,\n",
       " '[Tomatillo-Green Chili Salsa (Medium), [Black Beans, Rice, Fajita Veggies, Cheese, Sour Cream, Lettuce]]': 1,\n",
       " '[Tomatillo-Green Chili Salsa (Medium), [Black Beans, Rice, Fajita Veggies, Sour Cream]]': 1,\n",
       " '[Tomatillo-Green Chili Salsa (Medium), [Cheese, Lettuce]]': 1,\n",
       " '[Tomatillo-Green Chili Salsa (Medium), [Pinto Beans, Cheese, Sour Cream]]': 1,\n",
       " '[Tomatillo-Green Chili Salsa (Medium), [Pinto Beans, Rice, Cheese, Sour Cream, Guacamole, Lettuce]]': 1,\n",
       " '[Tomatillo-Green Chili Salsa (Medium), [Pinto Beans, Rice, Cheese, Sour Cream]]': 7,\n",
       " '[Tomatillo-Green Chili Salsa (Medium), [Pinto Beans, Rice, Fajita Veggies, Cheese, Sour Cream, Guacamole, Lettuce]]': 1,\n",
       " '[Tomatillo-Green Chili Salsa (Medium), [Pinto Beans, Rice, Fajita Veggies, Cheese, Sour Cream, Lettuce]]': 1,\n",
       " '[Tomatillo-Green Chili Salsa (Medium), [Rice, Cheese, Guacamole]]': 2,\n",
       " '[Tomatillo-Green Chili Salsa (Medium), [Rice, Cheese, Sour Cream, Guacamole]]': 1,\n",
       " '[Tomatillo-Green Chili Salsa (Medium), [Rice, Fajita Veggies, Cheese, Sour Cream]]': 1,\n",
       " '[Tomatillo-Green Chili Salsa (Medium), [Rice, Fajita Veggies, Lettuce]]': 1,\n",
       " '[Tomatillo-Red Chili Salsa (Hot), [Black Beans, Fajita Veggies, Cheese, Sour Cream, Guacamole, Lettuce]]': 2,\n",
       " '[Tomatillo-Red Chili Salsa (Hot), [Black Beans, Fajita Veggies, Cheese, Sour Cream, Lettuce]]': 1,\n",
       " '[Tomatillo-Red Chili Salsa (Hot), [Black Beans, Rice, Cheese, Lettuce]]': 1,\n",
       " '[Tomatillo-Red Chili Salsa (Hot), [Black Beans, Rice, Cheese, Sour Cream, Guacamole, Lettuce]]': 2,\n",
       " '[Tomatillo-Red Chili Salsa (Hot), [Black Beans, Rice, Cheese, Sour Cream, Guacamole]]': 4,\n",
       " '[Tomatillo-Red Chili Salsa (Hot), [Black Beans, Rice, Cheese, Sour Cream, Lettuce]]': 3,\n",
       " '[Tomatillo-Red Chili Salsa (Hot), [Black Beans, Rice, Cheese]]': 5,\n",
       " '[Tomatillo-Red Chili Salsa (Hot), [Black Beans, Rice, Fajita Veggies, Cheese, Sour Cream, Lettuce]]': 1,\n",
       " '[Tomatillo-Red Chili Salsa (Hot), [Black Beans, Rice, Fajita Veggies, Cheese, Sour Cream]]': 1,\n",
       " '[Tomatillo-Red Chili Salsa (Hot), [Black Beans, Rice]]': 1,\n",
       " '[Tomatillo-Red Chili Salsa (Hot), [Lettuce, Guacamole, Sour Cream, Cheese, Rice, Black Beans]]': 1,\n",
       " '[Tomatillo-Red Chili Salsa (Hot), [Pinto Beans, Rice, Cheese, Guacamole]]': 1,\n",
       " '[Tomatillo-Red Chili Salsa (Hot), [Pinto Beans, Rice, Cheese, Sour Cream, Guacamole]]': 1,\n",
       " '[Tomatillo-Red Chili Salsa (Hot), [Pinto Beans, Rice, Fajita Veggies, Cheese, Lettuce]]': 1,\n",
       " '[Tomatillo-Red Chili Salsa (Hot), [Pinto Beans, Rice, Fajita Veggies, Cheese, Sour Cream]]': 1,\n",
       " '[Tomatillo-Red Chili Salsa (Hot), [Rice, Black Beans, Cheese, Lettuce]]': 1,\n",
       " '[Tomatillo-Red Chili Salsa (Hot), [Rice, Black Beans, Fajita Veggies, Guacamole]]': 1,\n",
       " '[Tomatillo-Red Chili Salsa (Hot), [Rice, Cheese, Sour Cream, Guacamole]]': 1,\n",
       " '[Tomatillo-Red Chili Salsa (Hot), [Rice, Fajita Veggies, Cheese, Sour Cream]]': 1,\n",
       " '[Tomatillo-Red Chili Salsa (Hot), [Rice, Guacamole]]': 1,\n",
       " '[[Fresh Tomato Salsa (Mild), Roasted Chili Corn Salsa (Medium), Tomatillo-Red Chili Salsa (Hot)], [Black Beans, Rice, Fajita Veggies, Lettuce]]': 1,\n",
       " '[[Fresh Tomato Salsa (Mild), Roasted Chili Corn Salsa (Medium), Tomatillo-Red Chili Salsa (Hot)], [Pinto Beans, Rice, Fajita Veggies, Cheese, Sour Cream, Lettuce]]': 1,\n",
       " '[[Fresh Tomato Salsa (Mild), Roasted Chili Corn Salsa (Medium), Tomatillo-Red Chili Salsa (Hot)], [Rice, Fajita Veggies, Cheese, Lettuce]]': 1,\n",
       " '[[Fresh Tomato Salsa (Mild), Roasted Chili Corn Salsa (Medium)], [Black Beans, Rice, Fajita Veggies, Cheese, Sour Cream, Lettuce]]': 1,\n",
       " '[[Fresh Tomato Salsa (Mild), Roasted Chili Corn Salsa (Medium)], [Pinto Beans, Black Beans, Rice, Fajita Veggies, Cheese, Lettuce]]': 1,\n",
       " '[[Fresh Tomato Salsa (Mild), Roasted Chili Corn Salsa (Medium)], [Pinto Beans, Black Beans, Rice, Fajita Veggies, Cheese, Sour Cream, Lettuce]]': 1,\n",
       " '[[Fresh Tomato Salsa (Mild), Roasted Chili Corn Salsa (Medium)], [Pinto Beans, Rice, Fajita Veggies, Cheese, Sour Cream, Lettuce]]': 1,\n",
       " '[[Fresh Tomato Salsa (Mild), Roasted Chili Corn Salsa (Medium)], [Rice, Fajita Veggies, Cheese, Lettuce]]': 1,\n",
       " '[[Fresh Tomato Salsa (Mild), Tomatillo-Green Chili Salsa (Medium), Roasted Chili Corn Salsa (Medium)], [Pinto Beans, Rice, Fajita Veggies, Cheese, Lettuce]]': 1,\n",
       " '[[Fresh Tomato Salsa (Mild), Tomatillo-Green Chili Salsa (Medium), Tomatillo-Red Chili Salsa (Hot)], [Pinto Beans, Black Beans, Rice, Fajita Veggies, Cheese, Sour Cream, Lettuce]]': 1,\n",
       " '[[Fresh Tomato Salsa (Mild), Tomatillo-Green Chili Salsa (Medium)], [Black Beans, Rice, Fajita Veggies, Cheese, Sour Cream]]': 1,\n",
       " '[[Fresh Tomato Salsa (Mild), Tomatillo-Red Chili Salsa (Hot)], [Rice, Fajita Veggies, Cheese, Lettuce]]': 1,\n",
       " '[[Fresh Tomato Salsa (Mild), Tomatillo-Red Chili Salsa (Hot)], [Rice, Fajita Veggies, Cheese, Sour Cream, Guacamole, Lettuce]]': 1,\n",
       " '[[Lettuce, Fajita Veggies, Rice]]': 1,\n",
       " '[[Lettuce, Rice, Fajita Veggies]]': 1,\n",
       " '[[Lettuce, Rice]]': 1,\n",
       " '[[Rice, Cheese]]': 2,\n",
       " '[[Roasted Chili Corn Salsa (Medium), Fresh Tomato Salsa (Mild)], [Rice, Black Beans, Fajita Veggies, Cheese, Sour Cream, Guacamole, Lettuce]]': 1,\n",
       " '[[Roasted Chili Corn Salsa (Medium), Tomatillo-Red Chili Salsa (Hot)], [Black Beans, Rice, Cheese, Sour Cream, Lettuce]]': 1,\n",
       " '[[Roasted Chili Corn Salsa (Medium), Tomatillo-Red Chili Salsa (Hot)], [Black Beans, Rice, Fajita Veggies, Cheese, Guacamole, Lettuce]]': 1,\n",
       " '[[Roasted Chili Corn Salsa (Medium), Tomatillo-Red Chili Salsa (Hot)], [Black Beans, Rice, Fajita Veggies, Cheese, Sour Cream, Guacamole, Lettuce]]': 1,\n",
       " '[[Roasted Chili Corn Salsa (Medium), Tomatillo-Red Chili Salsa (Hot)], [Cheese, Lettuce]]': 1,\n",
       " '[[Tomatillo-Green Chili Salsa (Medium), Roasted Chili Corn Salsa (Medium), Tomatillo-Red Chili Salsa (Hot)], [Pinto Beans, Rice, Fajita Veggies, Cheese, Sour Cream, Guacamole, Lettuce]]': 1,\n",
       " '[[Tomatillo-Green Chili Salsa (Medium), Roasted Chili Corn Salsa (Medium)], [Black Beans, Rice, Cheese]]': 1,\n",
       " '[[Tomatillo-Green Chili Salsa (Medium), Roasted Chili Corn Salsa (Medium)], [Pinto Beans, Black Beans, Rice, Fajita Veggies, Cheese, Sour Cream, Guacamole, Lettuce]]': 1,\n",
       " '[[Tomatillo-Green Chili Salsa (Medium), Tomatillo-Red Chili Salsa (Hot)], [Black Beans, Rice, Cheese, Sour Cream, Guacamole]]': 1,\n",
       " '[[Tomatillo-Green Chili Salsa (Medium), Tomatillo-Red Chili Salsa (Hot)], [Pinto Beans, Rice, Cheese, Sour Cream, Guacamole, Lettuce]]': 1,\n",
       " '[[Tomatillo-Red Chili Salsa (Hot), Fresh Tomato Salsa (Mild)], [Rice, Black Beans, Cheese, Lettuce]]': 1,\n",
       " '[[Tomatillo-Red Chili Salsa (Hot), Tomatillo-Green Chili Salsa (Medium)], [Rice, Black Beans, Cheese, Lettuce]]': 1,\n",
       " '[[Tomatillo-Red Chili Salsa (Hot), Tomatillo-Green Chili Salsa (Medium)], [Rice, Pinto Beans, Cheese, Lettuce]]': 1}"
      ]
     },
     "execution_count": 24,
     "metadata": {},
     "output_type": "execute_result"
    }
   ],
   "source": [
    "#convert to dictionary\n",
    "dburr.to_dict()"
   ]
  },
  {
   "cell_type": "code",
   "execution_count": 25,
   "metadata": {},
   "outputs": [
    {
     "data": {
      "text/plain": [
       "<bound method Series.sort_values of [Fresh Tomato Salsa, [Rice, Black Beans, Cheese, Sour Cream, Lettuce]]                                                                                 16\n",
       "[Fresh Tomato Salsa, [Rice, Black Beans, Cheese, Sour Cream]]                                                                                          13\n",
       "[Fresh Tomato Salsa, [Rice, Black Beans, Cheese, Sour Cream, Guacamole, Lettuce]]                                                                      12\n",
       "[Fresh Tomato Salsa, [Rice, Black Beans, Cheese, Lettuce]]                                                                                             10\n",
       "[Fresh Tomato Salsa, [Rice, Cheese, Sour Cream, Lettuce]]                                                                                              10\n",
       "[Tomatillo Red Chili Salsa, [Rice, Black Beans, Cheese]]                                                                                                9\n",
       "[Fresh Tomato Salsa, Rice]                                                                                                                              9\n",
       "[Fresh Tomato Salsa (Mild), [Black Beans, Rice, Cheese, Sour Cream, Lettuce]]                                                                           8\n",
       "[Fresh Tomato Salsa, [Rice, Cheese, Lettuce]]                                                                                                           8\n",
       "[Fresh Tomato Salsa, [Rice, Black Beans, Cheese, Guacamole, Lettuce]]                                                                                   7\n",
       "[Tomatillo-Green Chili Salsa (Medium), [Pinto Beans, Rice, Cheese, Sour Cream]]                                                                         7\n",
       "[Fresh Tomato Salsa, [Fajita Vegetables, Rice, Black Beans, Cheese, Sour Cream, Lettuce]]                                                               6\n",
       "[Tomatillo Red Chili Salsa, [Rice, Pinto Beans, Sour Cream, Guacamole, Lettuce]]                                                                        5\n",
       "[Fresh Tomato Salsa, [Rice, Black Beans, Cheese]]                                                                                                       5\n",
       "[Fresh Tomato Salsa, [Fajita Vegetables, Rice]]                                                                                                         5\n",
       "[Tomatillo Red Chili Salsa, [Rice, Cheese, Sour Cream]]                                                                                                 5\n",
       "[Tomatillo-Red Chili Salsa (Hot), [Black Beans, Rice, Cheese]]                                                                                          5\n",
       "[Fresh Tomato Salsa, [Rice, Cheese, Sour Cream]]                                                                                                        5\n",
       "[Tomatillo Red Chili Salsa, [Rice, Pinto Beans, Cheese]]                                                                                                5\n",
       "[Tomatillo-Red Chili Salsa (Hot), [Black Beans, Rice, Cheese, Sour Cream, Guacamole]]                                                                   4\n",
       "[Roasted Chili Corn Salsa (Medium), [Rice, Fajita Veggies, Cheese, Sour Cream, Lettuce]]                                                                4\n",
       "[Fresh Tomato Salsa, [Fajita Vegetables, Rice, Black Beans, Cheese, Sour Cream, Guacamole, Lettuce]]                                                    4\n",
       "[Tomatillo Green Chili Salsa, [Rice, Pinto Beans, Cheese, Lettuce]]                                                                                     4\n",
       "[Roasted Chili Corn Salsa (Medium), [Black Beans, Rice, Cheese, Sour Cream]]                                                                            4\n",
       "[Fresh Tomato Salsa, [Fajita Vegetables, Rice, Black Beans, Cheese]]                                                                                    3\n",
       "[Roasted Chili Corn Salsa, [Rice, Cheese, Sour Cream, Lettuce]]                                                                                         3\n",
       "[Roasted Chili Corn Salsa (Medium), [Rice, Fajita Veggies, Cheese]]                                                                                     3\n",
       "[Fresh Tomato Salsa, [Rice, Pinto Beans, Cheese, Sour Cream, Lettuce]]                                                                                  3\n",
       "[Fresh Tomato Salsa, [Rice, Pinto Beans, Cheese, Sour Cream]]                                                                                           3\n",
       "[Fresh Tomato Salsa, [Rice, Sour Cream, Cheese, Lettuce, Guacamole]]                                                                                    3\n",
       "                                                                                                                                                       ..\n",
       "[Tomatillo-Red Chili Salsa (Hot), [Rice, Black Beans, Fajita Veggies, Guacamole]]                                                                       1\n",
       "[Fresh Tomato Salsa, [Fajita Vegetables, Rice, Pinto Beans, Cheese, Sour Cream, Guacamole, Lettuce]]                                                    1\n",
       "[Tomatillo Green Chili Salsa, [Rice, Cheese, Lettuce]]                                                                                                  1\n",
       "[[Fresh Tomato Salsa (Mild), Tomatillo-Green Chili Salsa (Medium)], [Black Beans, Rice, Fajita Veggies, Cheese, Sour Cream]]                            1\n",
       "[[Fresh Tomato Salsa (Mild), Roasted Chili Corn Salsa (Medium)], [Rice, Fajita Veggies, Cheese, Lettuce]]                                               1\n",
       "[Tomatillo-Red Chili Salsa (Hot), [Black Beans, Fajita Veggies, Cheese, Sour Cream, Lettuce]]                                                           1\n",
       "[[Lettuce, Rice, Fajita Veggies]]                                                                                                                       1\n",
       "[Tomatillo-Red Chili Salsa (Hot), [Black Beans, Rice, Fajita Veggies, Cheese, Sour Cream, Lettuce]]                                                     1\n",
       "[Roasted Chili Corn Salsa, [Rice, Pinto Beans, Cheese]]                                                                                                 1\n",
       "[Roasted Chili Corn Salsa, [Rice, Pinto Beans, Sour Cream, Cheese, Guacamole]]                                                                          1\n",
       "[Fresh Tomato Salsa, [Fajita Vegetables, Rice, Cheese, Guacamole]]                                                                                      1\n",
       "[Roasted Chili Corn Salsa, [Fajita Vegetables, Rice, Black Beans, Cheese, Sour Cream]]                                                                  1\n",
       "[Tomatillo Green Chili Salsa, [Rice, Pinto Beans, Black Beans, Sour Cream, Cheese, Lettuce]]                                                            1\n",
       "[Tomatillo-Green Chili Salsa (Medium), Lettuce]                                                                                                         1\n",
       "[Tomatillo-Green Chili Salsa (Medium), [Black Beans, Rice, Cheese, Sour Cream, Guacamole, Lettuce]]                                                     1\n",
       "[[Roasted Chili Corn Salsa (Medium), Tomatillo-Red Chili Salsa (Hot)], [Black Beans, Rice, Fajita Veggies, Cheese, Sour Cream, Guacamole, Lettuce]]     1\n",
       "[Tomatillo Green Chili Salsa, [Black Beans, Cheese, Guacamole, Lettuce]]                                                                                1\n",
       "[Fresh Tomato Salsa (Mild), [Fajita Veggies, Cheese, Sour Cream, Lettuce]]                                                                              1\n",
       "[Roasted Chili Corn Salsa, [Rice, Fajita Vegetables, Black Beans, Sour Cream, Cheese, Lettuce, Guacamole]]                                              1\n",
       "[Tomatillo-Green Chili Salsa (Medium), [Black Beans, Rice, Cheese, Sour Cream, Guacamole]]                                                              1\n",
       "[Tomatillo-Green Chili Salsa (Medium), [Black Beans, Rice, Fajita Veggies, Cheese, Sour Cream, Lettuce]]                                                1\n",
       "[Roasted Chili Corn Salsa, [Rice, Black Beans, Sour Cream, Lettuce]]                                                                                    1\n",
       "[Fresh Tomato Salsa (Mild), [Rice, Fajita Veggies, Cheese, Lettuce]]                                                                                    1\n",
       "[Tomatillo Red Chili Salsa, Lettuce]                                                                                                                    1\n",
       "[Tomatillo-Red Chili Salsa (Hot), [Rice, Fajita Veggies, Cheese, Sour Cream]]                                                                           1\n",
       "[Tomatillo-Green Chili Salsa (Medium), [Rice, Fajita Veggies, Cheese, Sour Cream]]                                                                      1\n",
       "[Roasted Chili Corn Salsa, [Rice, Fajita Vegetables, Black Beans, Sour Cream, Cheese, Lettuce]]                                                         1\n",
       "[Tomatillo Green Chili Salsa, [Fajita Vegetables, Black Beans, Sour Cream, Cheese]]                                                                     1\n",
       "[Fresh Tomato Salsa (Mild), [Black Beans, Rice, Cheese, Sour Cream, Guacamole]]                                                                         1\n",
       "[Tomatillo Green Chili Salsa, [Rice, Fajita Vegetables, Sour Cream]]                                                                                    1\n",
       "Name: choice_description, Length: 310, dtype: int64>"
      ]
     },
     "execution_count": 25,
     "metadata": {},
     "output_type": "execute_result"
    }
   ],
   "source": [
    "#sort dictionary by most popular group of toppings\n",
    "dburr.sort_values"
   ]
  },
  {
   "cell_type": "markdown",
   "metadata": {},
   "source": [
    "## [Fresh Tomato Salsa, [Rice, Black Beans, Cheese, Sour Cream, Lettuce]] "
   ]
  }
 ],
 "metadata": {
  "anaconda-cloud": {},
  "kernelspec": {
   "display_name": "Python 2",
   "language": "python",
   "name": "python2"
  },
  "language_info": {
   "codemirror_mode": {
    "name": "ipython",
    "version": 2
   },
   "file_extension": ".py",
   "mimetype": "text/x-python",
   "name": "python",
   "nbconvert_exporter": "python",
   "pygments_lexer": "ipython2",
   "version": "2.7.13"
  }
 },
 "nbformat": 4,
 "nbformat_minor": 2
}
